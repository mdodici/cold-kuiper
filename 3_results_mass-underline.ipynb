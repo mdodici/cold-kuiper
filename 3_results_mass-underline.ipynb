{
 "cells": [
  {
   "cell_type": "code",
   "execution_count": 16,
   "id": "da1032d1",
   "metadata": {},
   "outputs": [],
   "source": [
    "import numpy as np\n",
    "import pandas as pd\n",
    "import matplotlib as mpl\n",
    "import matplotlib.pyplot as plt\n",
    "from matplotlib.colors import LogNorm\n",
    "\n",
    "from IPython.display import HTML\n",
    "from matplotlib import animation\n",
    "\n",
    "%matplotlib inline"
   ]
  },
  {
   "cell_type": "code",
   "execution_count": 47,
   "id": "db5fe785",
   "metadata": {},
   "outputs": [],
   "source": [
    "gpe = 100         # gridpoints in eccentricity\n",
    "gps = 80          # gridpoints in size\n",
    "\n",
    "sMin = -4    \n",
    "sMax = 8\n",
    "\n",
    "eMin = 0.0    \n",
    "eMax = 0.2\n",
    "\n",
    "size = np.linspace(sMin,sMax,gps)\n",
    "eccs = np.linspace(eMin,eMax,gpe)\n",
    "\n",
    "# if all results have same strength law, it is convenient to fill it in here\n",
    "\n",
    "A_stg = 5e7      # strength constant A in erg g^-1\n",
    "B_stg = 3.3e-8    # strength constant B\n",
    "s_small = 0            # size_0 of strength eq = 1 cm in log cm\n",
    "alp_stg = -0.3    # strength constant alpha\n",
    "bet_stg = 2       # strength constant beta\n",
    "\n",
    "rho = 1\n",
    "mass = np.log10(rho*1*np.pi/3) + 3*size  # log mass in g\n",
    "\n",
    "asp_rat = (sMax-sMin)/(eMax-eMin)   # aspect ratio for plotting grid\n",
    "\n",
    "G = 4*np.pi**2          # gravitational constant\n",
    "sma = 45                # semimajor axis in au\n",
    "h = 1                   # disk scale height h = 1 AU\n",
    "mE = 5.972e27           # mass of Earth in g\n",
    "vkep = np.sqrt(G/sma) * (1.5e11/3.15e7)     # keplerian velocity in m s^-1\n",
    "\n",
    "def unpack(res, ge, gs):\n",
    "    N = np.load('%s/N.npy' %res)\n",
    "    N_i = np.load('%s/N_i.npy' %res)\n",
    "    N_o = np.load('%s/N_o.npy' %res)\n",
    "    ts = np.load('%s/ts.npy' %res)\n",
    "    dt = np.load('%s/dt.npy' %res)\n",
    "    fu = np.load('%s/fu.npy' %res)\n",
    "\n",
    "    steps_track = len(N)\n",
    "    steps_integ = len(dt)\n",
    "    print(res, 'took', steps_integ,'steps')\n",
    "        \n",
    "    N = N.reshape(steps_track,ge,gs)\n",
    "    N_i = N_i.reshape(steps_track,ge,gs)\n",
    "    N_o = N_o.reshape(steps_track,ge,gs)\n",
    "\n",
    "    Ndot = 10**N_i - 10**N_o\n",
    "\n",
    "    return N, N_i, N_o, Ndot, ts, dt, fu\n",
    "\n",
    "def qstar(s1, A = A_stg, B = B_stg, alp = alp_stg, bet = bet_stg, s0 = s_small):\n",
    "    term1 = A * np.power(10,(s1-s0)*alp)\n",
    "    term2 = B * rho * np.power(10,(s1-s0)*bet)\n",
    "    return term1 + term2\n",
    "\n",
    "def efault(s, A = A_stg, B = B_stg, alp = alp_stg, bet = bet_stg):\n",
    "    Q_ = qstar(s,A,B,alp,bet)/10000\n",
    "    efail = np.sqrt(2*Q_)/vkep\n",
    "    return efail\n",
    "\n",
    "def mass_underline(numbers, A=A_stg, B=B_stg, alp=alp_stg, bet=bet_stg, step='all'):\n",
    "    \"\"\"\n",
    "    Calculate total mass under the cricical line, below which it cannot be quickly destroyed\n",
    "    \n",
    "    In: numbers -- ts-by-gpe-by-gps array; 3D array with numbers in each 2D bin at each timestep\n",
    "        A, B, alp, bet -- floats; parameters of strength law used for this integration\n",
    "        step -- 'all' or int; either all the timesteps or a particular one\n",
    "        \n",
    "    Out: mass_under -- float or array; total mass under the line at desired steps\n",
    "    \"\"\"\n",
    "    efail = efault(size, A, B, alp, bet)  \n",
    "    e_max = np.zeros(gps)\n",
    "    mask = np.zeros((gpe,gps))\n",
    "    \n",
    "    # calculate max ecc bin at each size that is under this curve\n",
    "    #   in our mask grid, set the cells under this one == 1\n",
    "    \n",
    "    cutoff = np.argmin(efail)\n",
    "    for i in range(cutoff):\n",
    "        e_max_it = np.argmin(abs(efail[i] - eccs))\n",
    "        e_max[i] = e_max[i]\n",
    "        \n",
    "        mask[:e_max_it, i] = 1 \n",
    "    \n",
    "    if step == 'all':\n",
    "        mass_under = np.zeros(len(numbers))\n",
    "        for t in range(len(numbers)):\n",
    "            num = 10**numbers[t]\n",
    "            num_mask = num*mask\n",
    "            mass_grid =  num_mask* 10**mass\n",
    "            mass_under[t] = np.nansum(mass_grid)\n",
    "            \n",
    "    else:\n",
    "        num = 10**numbers[step]\n",
    "        num_mask = num*mask\n",
    "        mass_grid =  num_mask* 10**mass\n",
    "        mass_under = np.nansum(mass_grid)\n",
    "            \n",
    "    return mass_under\n",
    "\n",
    "def opacity(numbers, step='all'):\n",
    "    \"\"\"\n",
    "    calculate opacity at a certain step of an evolution of our numbers array\n",
    "    \n",
    "    In: numbers -- ts-by-gpe-by-gps array; 3D array with numbers in each 2D bin at each timestep\n",
    "        step -- 'all' or int; either all the timesteps or a particular one\n",
    "        \n",
    "    Out: opacity -- float or array; opacity at selected timesteps\n",
    "    \"\"\"\n",
    "    if step == 'all':\n",
    "        opacity = np.zeros(len(numbers))\n",
    "        for t in range(len(numbers)):\n",
    "            for i, e in enumerate(eccs):\n",
    "                N_sizes = 10**numbers[t,i]\n",
    "                h = 2 * e * sma\n",
    "                N_scale = (N_sizes*10**(size*2) / (2*sma*h*(1.496e13)**2))\n",
    "                opacity[t] += np.nansum(N_scale)\n",
    "    else:\n",
    "        N_sizes = np.nansum(10**numbers[step],axis=0)\n",
    "        N_scale = N_sizes*10**(size*2) / (2*sma*h*(1.496e13)**2)\n",
    "        opacity = np.nansum(N_scale)\n",
    "        \n",
    "    return opacity\n",
    "\n",
    "def get_massunder_opacity(resdir, gpe, gps):\n",
    "    N, _, _, _, ts, _, _ = unpack(resdir, gpe, gps)\n",
    "    mass_under = mass_underline(N)\n",
    "    opac = opacity(N)\n",
    "    return mass_under, opac, ts\n",
    "\n",
    "def plot_massunder_opacity(resdirlist, labels, title=r'$m_0$ = 10 $M_\\oplus$,  $e_0$ = 0.10', color=None,figure=None, axes=None, save=False):\n",
    "    \n",
    "    if figure == None:\n",
    "        fig, ax = plt.subplots(2,figsize=(5,6),sharex=True,gridspec_kw={'height_ratios': [2, 1]})    \n",
    "    else:\n",
    "        fig = figure\n",
    "        ax = axes\n",
    "    \n",
    "    if color == None:\n",
    "        for i,direct in enumerate(resdirlist):\n",
    "            mu, opac, ts = get_massunder_opacity(direct, gpe, gps)\n",
    "\n",
    "            ax[0].plot(np.log10(ts), np.log10(mu/mE))\n",
    "            ax[1].plot(np.log10(ts), np.log10(opac))\n",
    "    else:\n",
    "        for i,direct in enumerate(resdirlist):\n",
    "            mu, opac, ts = get_massunder_opacity(direct, gpe, gps)\n",
    "\n",
    "            alpha_val = (i + 1)/(len(resdirlist)+1)\n",
    "            ax[0].plot(np.log10(ts), np.log10(mu/mE), c='darkorchid', alpha = alpha_val,lw=2.5)\n",
    "            ax[1].plot(np.log10(ts), np.log10(opac), c=color, alpha = alpha_val)\n",
    "                \n",
    "    #ax[0].legend(labels, fontsize=13, loc='upper left',fancybox=False)\n",
    "    ax[0].text(1.1,-4.65,labels[0],fontsize=13)\n",
    "    ax[0].text(1.1,-9,labels[1],fontsize=13,rotation=26)\n",
    "    ax[0].text(4.1,-9.8,labels[2],fontsize=13,rotation=71)\n",
    "    ax[0].text(1.1,-6,labels[3],fontsize=13)\n",
    "    ax[0].set_ylim(-10,-2)\n",
    "    \n",
    "    ax[0].set_ylabel(r'log $M_s$ [$M_\\oplus$]',fontsize=15)\n",
    "    #ax[0].set_title(title,fontsize=15)\n",
    "    ax[0].set_yticks([-10,-8,-6,-4,-2])\n",
    "    \n",
    "    ax[1].hlines(0,-6,10,color='k',zorder=0)\n",
    "\n",
    "    ax[1].set_xlim(1,np.log10(5e6))\n",
    "\n",
    "    ax[1].set_ylabel(r'log $\\kappa$',fontsize=16)\n",
    "    ax[1].set_xlabel('log time [yr]',fontsize=16)\n",
    "\n",
    "    for i in range(2):\n",
    "        ax[i].tick_params('y',which='both',right=True,labelright=True, direction='in')\n",
    "        ax[i].tick_params('x',which='both',direction='in',top=True)\n",
    "\n",
    "    ax[1].set_yticks([-3,-2,-1,0,1])\n",
    "    fig.tight_layout()\n",
    "    \n",
    "    if save == True:\n",
    "        fig.savefig('mass_underline.png',dpi=300)\n",
    "    \n",
    "    return fig, ax"
   ]
  },
  {
   "cell_type": "code",
   "execution_count": 48,
   "id": "8e09c93b",
   "metadata": {
    "scrolled": false
   },
   "outputs": [
    {
     "name": "stdout",
     "output_type": "stream",
     "text": [
      "A_stg_5e7/results/e0-0.05_t-5.0Myr_m0-10Me_p-100_r-10 took 762 steps\n"
     ]
    },
    {
     "name": "stderr",
     "output_type": "stream",
     "text": [
      "/var/folders/y4/2ycbkc7559gd7v34zsxpc8dh0000gn/T/ipykernel_10148/3641293441.py:117: RuntimeWarning: invalid value encountered in true_divide\n",
      "  N_scale = (N_sizes*10**(size*2) / (2*sma*h*(1.496e13)**2))\n",
      "/var/folders/y4/2ycbkc7559gd7v34zsxpc8dh0000gn/T/ipykernel_10148/3641293441.py:151: RuntimeWarning: divide by zero encountered in log10\n",
      "  ax[0].plot(np.log10(ts), np.log10(mu/mE), c='darkorchid', alpha = alpha_val,lw=2.5)\n",
      "/var/folders/y4/2ycbkc7559gd7v34zsxpc8dh0000gn/T/ipykernel_10148/3641293441.py:152: RuntimeWarning: divide by zero encountered in log10\n",
      "  ax[1].plot(np.log10(ts), np.log10(opac), c=color, alpha = alpha_val)\n"
     ]
    },
    {
     "name": "stdout",
     "output_type": "stream",
     "text": [
      "A_stg_5e7/results/e0-0.10_t-5.0Myr_m0-10Me_p-100_r-10 took 7338 steps\n"
     ]
    },
    {
     "name": "stderr",
     "output_type": "stream",
     "text": [
      "/var/folders/y4/2ycbkc7559gd7v34zsxpc8dh0000gn/T/ipykernel_10148/3641293441.py:117: RuntimeWarning: invalid value encountered in true_divide\n",
      "  N_scale = (N_sizes*10**(size*2) / (2*sma*h*(1.496e13)**2))\n",
      "/var/folders/y4/2ycbkc7559gd7v34zsxpc8dh0000gn/T/ipykernel_10148/3641293441.py:151: RuntimeWarning: divide by zero encountered in log10\n",
      "  ax[0].plot(np.log10(ts), np.log10(mu/mE), c='darkorchid', alpha = alpha_val,lw=2.5)\n",
      "/var/folders/y4/2ycbkc7559gd7v34zsxpc8dh0000gn/T/ipykernel_10148/3641293441.py:152: RuntimeWarning: divide by zero encountered in log10\n",
      "  ax[1].plot(np.log10(ts), np.log10(opac), c=color, alpha = alpha_val)\n"
     ]
    },
    {
     "name": "stdout",
     "output_type": "stream",
     "text": [
      "A_stg_5e7/results/e0-0.15_t-5.0Myr_m0-10Me_p-100_r-10 took 2331 steps\n"
     ]
    },
    {
     "name": "stderr",
     "output_type": "stream",
     "text": [
      "/var/folders/y4/2ycbkc7559gd7v34zsxpc8dh0000gn/T/ipykernel_10148/3641293441.py:117: RuntimeWarning: invalid value encountered in true_divide\n",
      "  N_scale = (N_sizes*10**(size*2) / (2*sma*h*(1.496e13)**2))\n",
      "/var/folders/y4/2ycbkc7559gd7v34zsxpc8dh0000gn/T/ipykernel_10148/3641293441.py:151: RuntimeWarning: divide by zero encountered in log10\n",
      "  ax[0].plot(np.log10(ts), np.log10(mu/mE), c='darkorchid', alpha = alpha_val,lw=2.5)\n",
      "/var/folders/y4/2ycbkc7559gd7v34zsxpc8dh0000gn/T/ipykernel_10148/3641293441.py:152: RuntimeWarning: divide by zero encountered in log10\n",
      "  ax[1].plot(np.log10(ts), np.log10(opac), c=color, alpha = alpha_val)\n"
     ]
    },
    {
     "name": "stdout",
     "output_type": "stream",
     "text": [
      "flat_edist/results/e0-flat_t-5.0Myr_m0-10Me_p-100_r-10 took 2558 steps\n"
     ]
    },
    {
     "name": "stderr",
     "output_type": "stream",
     "text": [
      "/var/folders/y4/2ycbkc7559gd7v34zsxpc8dh0000gn/T/ipykernel_10148/3641293441.py:117: RuntimeWarning: invalid value encountered in true_divide\n",
      "  N_scale = (N_sizes*10**(size*2) / (2*sma*h*(1.496e13)**2))\n",
      "/var/folders/y4/2ycbkc7559gd7v34zsxpc8dh0000gn/T/ipykernel_10148/3641293441.py:151: RuntimeWarning: divide by zero encountered in log10\n",
      "  ax[0].plot(np.log10(ts), np.log10(mu/mE), c='darkorchid', alpha = alpha_val,lw=2.5)\n",
      "/var/folders/y4/2ycbkc7559gd7v34zsxpc8dh0000gn/T/ipykernel_10148/3641293441.py:152: RuntimeWarning: divide by zero encountered in log10\n",
      "  ax[1].plot(np.log10(ts), np.log10(opac), c=color, alpha = alpha_val)\n"
     ]
    },
    {
     "data": {
      "image/png": "[encoded data removed]",
      "text/plain": [
       "<Figure size 360x432 with 2 Axes>"
      ]
     },
     "metadata": {
      "needs_background": "light"
     },
     "output_type": "display_data"
    }
   ],
   "source": [
    "resdirlist1 = ['A_stg_5e7/results/e0-0.05_t-5.0Myr_m0-10Me_p-100_r-10',\n",
    "               'A_stg_5e7/results/e0-0.10_t-5.0Myr_m0-10Me_p-100_r-10',\n",
    "               'A_stg_5e7/results/e0-0.15_t-5.0Myr_m0-10Me_p-100_r-10',\n",
    "               'flat_edist/results/e0-flat_t-5.0Myr_m0-10Me_p-100_r-10']\n",
    "\n",
    "fig1, ax1 = plot_massunder_opacity(resdirlist1, \n",
    "                                   [r'$e_0$ = 0.05', r'$e_0$ = 0.10', r'$e_0$ = 0.15',r'flat $e$ dist'], \n",
    "                                   title=r'$m_0$ = 10 $M_\\oplus$',\n",
    "                                   color='maroon',\n",
    "                                   save=False)"
   ]
  },
  {
   "cell_type": "code",
   "execution_count": 49,
   "id": "4ca9e821",
   "metadata": {},
   "outputs": [],
   "source": [
    "fig1.savefig('mass_underline_A5e7.png',dpi=300)"
   ]
  },
  {
   "cell_type": "code",
   "execution_count": 92,
   "id": "0a2401db",
   "metadata": {},
   "outputs": [
    {
     "name": "stdout",
     "output_type": "stream",
     "text": [
      "A_stg_1e8/results/e0-0.05_t-5.0Myr_m0-10Me_p-100_r-10 took 667 steps\n"
     ]
    },
    {
     "name": "stderr",
     "output_type": "stream",
     "text": [
      "/var/folders/y4/2ycbkc7559gd7v34zsxpc8dh0000gn/T/ipykernel_50199/337415378.py:117: RuntimeWarning: invalid value encountered in true_divide\n",
      "  N_scale = (N_sizes*10**(size*2) / (2*sma*h*(1.496e13)**2))\n"
     ]
    },
    {
     "name": "stdout",
     "output_type": "stream",
     "text": [
      "A_stg_1e8/results/e0-0.10_t-5.0Myr_m0-10Me_p-100_r-10 took 564 steps\n"
     ]
    },
    {
     "name": "stderr",
     "output_type": "stream",
     "text": [
      "/var/folders/y4/2ycbkc7559gd7v34zsxpc8dh0000gn/T/ipykernel_50199/337415378.py:117: RuntimeWarning: invalid value encountered in true_divide\n",
      "  N_scale = (N_sizes*10**(size*2) / (2*sma*h*(1.496e13)**2))\n"
     ]
    },
    {
     "name": "stdout",
     "output_type": "stream",
     "text": [
      "A_stg_1e8/results/e0-0.15_t-5.0Myr_m0-10Me_p-100_r-10 took 5939 steps\n"
     ]
    },
    {
     "name": "stderr",
     "output_type": "stream",
     "text": [
      "/var/folders/y4/2ycbkc7559gd7v34zsxpc8dh0000gn/T/ipykernel_50199/337415378.py:117: RuntimeWarning: invalid value encountered in true_divide\n",
      "  N_scale = (N_sizes*10**(size*2) / (2*sma*h*(1.496e13)**2))\n",
      "/var/folders/y4/2ycbkc7559gd7v34zsxpc8dh0000gn/T/ipykernel_50199/337415378.py:117: RuntimeWarning: divide by zero encountered in true_divide\n",
      "  N_scale = (N_sizes*10**(size*2) / (2*sma*h*(1.496e13)**2))\n"
     ]
    }
   ],
   "source": [
    "resdirlist2 = ['A_stg_1e8/results/e0-0.05_t-5.0Myr_m0-10Me_p-100_r-10',\n",
    "               'A_stg_1e8/results/e0-0.10_t-5.0Myr_m0-10Me_p-100_r-10',\n",
    "               'A_stg_1e8/results/e0-0.15_t-5.0Myr_m0-10Me_p-100_r-10']\n",
    "\n",
    "fig2, ax2 = plot_massunder_opacity(resdirlist2, \n",
    "                                   [r'$e_0$ = 0.05', r'$e_0$ = 0.10', r'$e_0$ = 0.15'], \n",
    "                                   title=r'$m_0$ = 10 $M_\\oplus$,  A = 5e7, 8e7',\n",
    "                                   color='blue',\n",
    "                                   figure=fig1,\n",
    "                                   axes=ax1,\n",
    "                                   save=False)"
   ]
  },
  {
   "cell_type": "code",
   "execution_count": 93,
   "id": "8f4e4bf9",
   "metadata": {
    "scrolled": false
   },
   "outputs": [],
   "source": [
    "fig2.savefig('mass_underline_2stglaws.png',dpi=300)"
   ]
  },
  {
   "cell_type": "code",
   "execution_count": 94,
   "id": "d3e50436",
   "metadata": {},
   "outputs": [
    {
     "name": "stdout",
     "output_type": "stream",
     "text": [
      "A_stg_2e7/results/e0-0.05_t-5.0Myr_m0-10Me_p-100_r-10 took 1226 steps\n"
     ]
    },
    {
     "name": "stderr",
     "output_type": "stream",
     "text": [
      "/var/folders/y4/2ycbkc7559gd7v34zsxpc8dh0000gn/T/ipykernel_50199/337415378.py:117: RuntimeWarning: invalid value encountered in true_divide\n",
      "  N_scale = (N_sizes*10**(size*2) / (2*sma*h*(1.496e13)**2))\n"
     ]
    },
    {
     "name": "stdout",
     "output_type": "stream",
     "text": [
      "A_stg_2e7/results/e0-0.10_t-5.0Myr_m0-10Me_p-100_r-10 took 4633 steps\n"
     ]
    },
    {
     "name": "stderr",
     "output_type": "stream",
     "text": [
      "/var/folders/y4/2ycbkc7559gd7v34zsxpc8dh0000gn/T/ipykernel_50199/337415378.py:117: RuntimeWarning: invalid value encountered in true_divide\n",
      "  N_scale = (N_sizes*10**(size*2) / (2*sma*h*(1.496e13)**2))\n"
     ]
    }
   ],
   "source": [
    "resdirlist3 = ['A_stg_2e7/results/e0-0.05_t-5.0Myr_m0-10Me_p-100_r-10',\n",
    "               'A_stg_2e7/results/e0-0.10_t-5.0Myr_m0-10Me_p-100_r-10']\n",
    "\n",
    "fig3, ax3 = plot_massunder_opacity(resdirlist3, \n",
    "                                   [r'$e_0$ = 0.05', r'$e_0$ = 0.10', r'$e_0$ = 0.15'], \n",
    "                                   title=r'$m_0$ = 10 $M_\\oplus$,  A = 2e7, 5e7, 8e7',\n",
    "                                   color='C1',\n",
    "                                   figure=fig2,\n",
    "                                   axes=ax2,\n",
    "                                   save=False)"
   ]
  },
  {
   "cell_type": "code",
   "execution_count": 95,
   "id": "63732b74",
   "metadata": {},
   "outputs": [],
   "source": [
    "fig3.savefig('mass_underline_3stglaws.png',dpi=300)"
   ]
  },
  {
   "cell_type": "markdown",
   "id": "d27a87a9",
   "metadata": {},
   "source": [
    "# Or, written out, "
   ]
  },
  {
   "cell_type": "code",
   "execution_count": 22,
   "id": "edbc2cdf",
   "metadata": {},
   "outputs": [
    {
     "name": "stdout",
     "output_type": "stream",
     "text": [
      "A_stg_2e7/results/e0-0.01_t-100.0Myr_m0-10Me_p-100_r-10 took 29 steps\n"
     ]
    },
    {
     "name": "stderr",
     "output_type": "stream",
     "text": [
      "/var/folders/y4/2ycbkc7559gd7v34zsxpc8dh0000gn/T/ipykernel_50199/2164868112.py:117: RuntimeWarning: divide by zero encountered in true_divide\n",
      "  N_scale = (N_sizes*10**(size*2) / (2*sma*h*(1.496e13)**2))\n"
     ]
    },
    {
     "name": "stdout",
     "output_type": "stream",
     "text": [
      "A_stg_2e7/results/e0-0.05_t-5.0Myr_m0-10Me_p-100_r-10 took 1226 steps\n"
     ]
    },
    {
     "name": "stderr",
     "output_type": "stream",
     "text": [
      "/var/folders/y4/2ycbkc7559gd7v34zsxpc8dh0000gn/T/ipykernel_50199/2164868112.py:117: RuntimeWarning: invalid value encountered in true_divide\n",
      "  N_scale = (N_sizes*10**(size*2) / (2*sma*h*(1.496e13)**2))\n"
     ]
    },
    {
     "name": "stdout",
     "output_type": "stream",
     "text": [
      "A_stg_2e7/results/e0-0.08_t-5.0Myr_m0-10Me_p-100_r-10 took 7372 steps\n",
      "A_stg_2e7/results/e0-0.10_t-5.0Myr_m0-10Me_p-100_r-10 took 4633 steps\n"
     ]
    }
   ],
   "source": [
    "resdir0 = 'A_stg_2e7/results/e0-0.01_t-100.0Myr_m0-10Me_p-100_r-10'\n",
    "resdir1 = 'A_stg_2e7/results/e0-0.05_t-5.0Myr_m0-10Me_p-100_r-10'\n",
    "resdir2 = 'A_stg_2e7/results/e0-0.08_t-5.0Myr_m0-10Me_p-100_r-10'\n",
    "resdir3 = 'A_stg_2e7/results/e0-0.10_t-5.0Myr_m0-10Me_p-100_r-10'\n",
    "\n",
    "mu_0, opac_0, ts_0 = get_massunder_opacity(resdir0, gpe, gps)\n",
    "mu_1, opac_1, ts_1 = get_massunder_opacity(resdir1, gpe, gps)\n",
    "mu_2, opac_2, ts_2 = get_massunder_opacity(resdir2, gpe, gps)\n",
    "mu_3, opac_3, ts_3 = get_massunder_opacity(resdir3, gpe, gps)"
   ]
  },
  {
   "cell_type": "code",
   "execution_count": 24,
   "id": "75107009",
   "metadata": {},
   "outputs": [
    {
     "data": {
      "image/png": "[encoded data removed]",
      "text/plain": [
       "<Figure size 432x432 with 2 Axes>"
      ]
     },
     "metadata": {
      "needs_background": "light"
     },
     "output_type": "display_data"
    }
   ],
   "source": [
    "fig,ax = plt.subplots(2,figsize=(6,6),sharex=True,gridspec_kw={'height_ratios': [2, 1]})\n",
    "ax[0].plot(ts_0,mu_0/mE, c='grey',alpha=.5)\n",
    "ax[0].plot(ts_1,mu_1/mE, c='red',alpha=.5)\n",
    "ax[0].plot(ts_2,mu_2/mE, c='purple', ls='--',alpha=.8)\n",
    "ax[0].plot(ts_3,mu_3/mE, c='blue', ls=':',alpha=.5)\n",
    "\n",
    "ax[0].set_ylim(1e-10,1e1)\n",
    "ax[0].set_xlim(1,ts_3[-1])\n",
    "\n",
    "ax[0].legend([r'$e_0$ = 0.01', r'$e_0$ = 0.05', r'$e_0$ = 0.08', r'$e_0$ = 0.10'], loc='upper left',fontsize=13)\n",
    "ax[0].set_ylabel(r'mass [$M_\\oplus$]',fontsize=15)\n",
    "ax[0].set_title(r'$m_0$ = 10 $M_\\oplus$,  A = 2e7',fontsize=15)\n",
    "    \n",
    "ax[1].plot(ts_0,opac_0, c='grey',alpha=.5)\n",
    "ax[1].plot(ts_1,opac_1, c='red',alpha=.5)\n",
    "ax[1].plot(ts_2,opac_2, c='purple', ls= '--',alpha=.8)\n",
    "ax[1].plot(ts_3,opac_3, c='blue', ls=':',alpha=.5)\n",
    "\n",
    "ax[1].hlines(1,1e-6,1e10,color='k',zorder=0)\n",
    "\n",
    "ax[1].set_xlim(1,ts_3[-1])\n",
    "\n",
    "ax[1].set_ylabel('opacity',fontsize=16)\n",
    "ax[1].set_xlabel('time [yr]',fontsize=16)\n",
    "\n",
    "for i in range(2):\n",
    "    ax[i].tick_params('y',which='both',right=True,labelright=True)\n",
    "    ax[i].set_yscale('log')\n",
    "    ax[i].set_xscale('log')\n",
    "\n",
    "ax[1].set_yticks([.0001,.01,1,100])\n",
    "\n",
    "plt.show()\n",
    "fig.savefig('mass_underline_A2e7_evo.png',dpi=300)"
   ]
  },
  {
   "cell_type": "code",
   "execution_count": null,
   "id": "c98306cd",
   "metadata": {},
   "outputs": [],
   "source": []
  }
 ],
 "metadata": {
  "kernelspec": {
   "display_name": "Python 3 (ipykernel)",
   "language": "python",
   "name": "python3"
  },
  "language_info": {
   "codemirror_mode": {
    "name": "ipython",
    "version": 3
   },
   "file_extension": ".py",
   "mimetype": "text/x-python",
   "name": "python",
   "nbconvert_exporter": "python",
   "pygments_lexer": "ipython3",
   "version": "3.9.12"
  }
 },
 "nbformat": 4,
 "nbformat_minor": 5
}
